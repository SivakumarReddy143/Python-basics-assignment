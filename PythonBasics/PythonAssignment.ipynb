{
 "cells": [
  {
   "cell_type": "markdown",
   "metadata": {},
   "source": [
    "Q1. Create one variable containing following type of data:\n",
    "(i) string\n",
    "(ii) list\n",
    "(iii) float\n",
    "(iv) tuple"
   ]
  },
  {
   "cell_type": "code",
   "execution_count": 3,
   "metadata": {},
   "outputs": [
    {
     "name": "stdout",
     "output_type": "stream",
     "text": [
      "String: pwskills\n",
      "list: [2, 4, 1, 'siva']\n",
      "float: 394.29\n",
      "tuple: (2, 4, 'hello', 39)\n"
     ]
    }
   ],
   "source": [
    "\n",
    "name=\"pwskills\"\n",
    "print(f\"String: {name}\")\n",
    "lst=[2,4,1,\"siva\"]\n",
    "print(f\"list: {lst}\")\n",
    "num=394.29\n",
    "print(f\"float: {num}\")\n",
    "tup=(2,4,\"hello\",39)\n",
    "print(f\"tuple: {tup}\")"
   ]
  },
  {
   "cell_type": "markdown",
   "metadata": {},
   "source": [
    "Q2. Given are some following variables containing data:\n",
    "(i) var1 = ‘ ‘\n",
    "(ii) var2 = ‘[ DS , ML , Python]’\n",
    "(iii) var3 = [ ‘DS’ , ’ML’ , ‘Python’ ]\n",
    "(iv) var4 = 1.\n",
    "What will be the data type of the above given variable."
   ]
  },
  {
   "cell_type": "code",
   "execution_count": 9,
   "metadata": {},
   "outputs": [
    {
     "name": "stdout",
     "output_type": "stream",
     "text": [
      "i) type of var1: <class 'str'>\n",
      "ii) type of var2: <class 'str'>\n",
      "iii) type of var3: <class 'list'>\n",
      "iv) type of var4: <class 'int'>\n"
     ]
    }
   ],
   "source": [
    "var1 = ' '\n",
    "var2 = '[ DS , ML , Python]'\n",
    "var3 = [ 'DS' , 'ML' , 'Python' ]\n",
    "var4 = 1\n",
    "print(f\"i) type of var1: {type(var1)}\")\n",
    "print(f\"ii) type of var2: {type(var2)}\")\n",
    "print(f\"iii) type of var3: {type(var3)}\")\n",
    "print(f\"iv) type of var4: {type(var4)}\")"
   ]
  },
  {
   "cell_type": "markdown",
   "metadata": {},
   "source": [
    "Q3. Explain the use of the following operators using an example:\n",
    "(i) /\n",
    "(ii) %\n",
    "(iii) //\n",
    "(iv) **"
   ]
  },
  {
   "cell_type": "code",
   "execution_count": 14,
   "metadata": {},
   "outputs": [
    {
     "name": "stdout",
     "output_type": "stream",
     "text": [
      "division operator:  11.633333333333333\n",
      "modulus operator:  19\n",
      "floor division operator:  11\n",
      "double asterisk operator: 32\n"
     ]
    }
   ],
   "source": [
    "#i) / ->division operator \n",
    "#The division operator is used for division between two numbers and it returns quotient\n",
    "a=349\n",
    "b=30\n",
    "print(\"division operator: \",a/b) \n",
    "# % -> modulus operator gives remainder when two numbers are divided\n",
    "print(\"modulus operator: \",a%b)\n",
    "# // -> Floor division operator gives whole number quotient when two numbers are devided\n",
    "print(\"floor division operator: \",a//b)\n",
    "# ** -> gives value of base raised to the power of exponent\n",
    "print(\"double asterisk operator:\",2**5)"
   ]
  },
  {
   "cell_type": "markdown",
   "metadata": {},
   "source": [
    "Q4. Create a list of length 10 of your choice containing multiple types of data. Using for loop print the\n",
    "element and its data type."
   ]
  },
  {
   "cell_type": "code",
   "execution_count": 21,
   "metadata": {},
   "outputs": [
    {
     "name": "stdout",
     "output_type": "stream",
     "text": [
      "value : pwskills --> type : <class 'str'>\n",
      "value : 23 --> type : <class 'int'>\n",
      "value : 20.34 --> type : <class 'float'>\n",
      "value : siva --> type : <class 'str'>\n",
      "value : [23, 23] --> type : <class 'list'>\n",
      "value : 9 --> type : <class 'int'>\n",
      "value : (23, 45, 14) --> type : <class 'tuple'>\n",
      "value : {2: 'hello'} --> type : <class 'dict'>\n",
      "value : 34.22 --> type : <class 'float'>\n",
      "value : (323+34j) --> type : <class 'complex'>\n"
     ]
    }
   ],
   "source": [
    "lst=[\"pwskills\",23,20.34,\"siva\",[23,23],9,(23,45,14),{2:\"hello\"},34.22,323+34j]\n",
    "for i in lst:\n",
    "    print(f\"value : {i} --> type : {type(i)}\")"
   ]
  },
  {
   "cell_type": "markdown",
   "metadata": {},
   "source": [
    "Q5. Using a while loop, verify if the number A is purely divisible by number B and if so then how many\n",
    "times it can be divisible."
   ]
  },
  {
   "cell_type": "code",
   "execution_count": 30,
   "metadata": {},
   "outputs": [
    {
     "name": "stdout",
     "output_type": "stream",
     "text": [
      "a is purely divisible by number b\n",
      "count :3\n"
     ]
    }
   ],
   "source": [
    "a=int(input(\"enter a value:\"))\n",
    "b=int(input(\"enter b value:\"))\n",
    "count=0\n",
    "while a%b==0:\n",
    "    count+=1\n",
    "    a//=b\n",
    "if a==1:\n",
    "    print(\"a is purely divisible by number b\")\n",
    "    print(f\"count :{count}\")\n",
    "else:\n",
    "    print(\"a is not purely divisible by number b\")"
   ]
  },
  {
   "cell_type": "markdown",
   "metadata": {},
   "source": [
    "Q6. Create a list containing 25 int type data. Using for loop and if-else condition print if the element is\n",
    "divisible by 3 or not."
   ]
  },
  {
   "cell_type": "code",
   "execution_count": 1,
   "metadata": {},
   "outputs": [
    {
     "name": "stdout",
     "output_type": "stream",
     "text": [
      "2 is not divisible by 3\n",
      "49 is not divisible by 3\n",
      "28 is not divisible by 3\n",
      "29 is not divisible by 3\n",
      "394 is not divisible by 3\n",
      "239 is not divisible by 3\n",
      "43 is not divisible by 3\n",
      "19 is not divisible by 3\n",
      "489 is divisible by 3\n",
      "42390 is divisible by 3\n",
      "3429 is divisible by 3\n",
      "2349 is divisible by 3\n",
      "59 is not divisible by 3\n",
      "40 is not divisible by 3\n",
      "59 is not divisible by 3\n",
      "329 is not divisible by 3\n",
      "29 is not divisible by 3\n",
      "48 is divisible by 3\n",
      "39 is divisible by 3\n",
      "59 is not divisible by 3\n",
      "94 is not divisible by 3\n",
      "20 is not divisible by 3\n",
      "59 is not divisible by 3\n",
      "69 is divisible by 3\n",
      "39 is divisible by 3\n"
     ]
    }
   ],
   "source": [
    "lst=[2,49,28,29,394,239,43,19,489,42390,3429,2349,59,40,59,329,29,48,39,59,94,20,59,69,39]\n",
    "for i in lst:\n",
    "    if i%3==0:\n",
    "        print(f\"{i} is divisible by 3\")\n",
    "    else:\n",
    "        print(f\"{i} is not divisible by 3\")"
   ]
  },
  {
   "cell_type": "markdown",
   "metadata": {},
   "source": [
    "Q7. What do you understand about mutable and immutable data types? Give examples for both showing\n",
    "this property.\n",
    "Ans)\n",
    " Mutable:- objects can be changed after creation.\n",
    "example:-\n",
    "list\n",
    "immutable:-objects cannot be changed after creation.\n",
    "example:-\n",
    "    string"
   ]
  },
  {
   "cell_type": "code",
   "execution_count": 2,
   "metadata": {},
   "outputs": [
    {
     "name": "stdout",
     "output_type": "stream",
     "text": [
      "original list: [2, 3, 4, 5]\n",
      "list after changing: [293, 3, 4, 5]\n"
     ]
    }
   ],
   "source": [
    "lst=[2,3,4,5]\n",
    "print(f\"original list: {lst}\")\n",
    "lst[0]=293\n",
    "print(f\"list after changing: {lst}\")"
   ]
  },
  {
   "cell_type": "code",
   "execution_count": 5,
   "metadata": {},
   "outputs": [
    {
     "name": "stdout",
     "output_type": "stream",
     "text": [
      "siva\n"
     ]
    },
    {
     "ename": "TypeError",
     "evalue": "'str' object does not support item assignment",
     "output_type": "error",
     "traceback": [
      "\u001b[0;31m---------------------------------------------------------------------------\u001b[0m",
      "\u001b[0;31mTypeError\u001b[0m                                 Traceback (most recent call last)",
      "Cell \u001b[0;32mIn[5], line 3\u001b[0m\n\u001b[1;32m      1\u001b[0m name\u001b[38;5;241m=\u001b[39m\u001b[38;5;124m\"\u001b[39m\u001b[38;5;124msiva\u001b[39m\u001b[38;5;124m\"\u001b[39m\n\u001b[1;32m      2\u001b[0m \u001b[38;5;28mprint\u001b[39m(name)\n\u001b[0;32m----> 3\u001b[0m \u001b[43mname\u001b[49m\u001b[43m[\u001b[49m\u001b[38;5;241;43m2\u001b[39;49m\u001b[43m]\u001b[49m\u001b[38;5;241m=\u001b[39m\u001b[38;5;124m'\u001b[39m\u001b[38;5;124mw\u001b[39m\u001b[38;5;124m'\u001b[39m\n\u001b[1;32m      4\u001b[0m \u001b[38;5;28mprint\u001b[39m(name)\n",
      "\u001b[0;31mTypeError\u001b[0m: 'str' object does not support item assignment"
     ]
    }
   ],
   "source": [
    "name=\"siva\"\n",
    "print(name)\n",
    "name[2]='w'\n",
    "print(name)"
   ]
  }
 ],
 "metadata": {
  "kernelspec": {
   "display_name": "Python 3.8.10 64-bit",
   "language": "python",
   "name": "python3"
  },
  "language_info": {
   "codemirror_mode": {
    "name": "ipython",
    "version": 3
   },
   "file_extension": ".py",
   "mimetype": "text/x-python",
   "name": "python",
   "nbconvert_exporter": "python",
   "pygments_lexer": "ipython3",
   "version": "3.8.10"
  },
  "orig_nbformat": 4,
  "vscode": {
   "interpreter": {
    "hash": "e7370f93d1d0cde622a1f8e1c04877d8463912d04d973331ad4851f04de6915a"
   }
  }
 },
 "nbformat": 4,
 "nbformat_minor": 2
}
